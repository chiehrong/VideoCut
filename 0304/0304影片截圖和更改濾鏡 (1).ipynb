{
 "cells": [
  {
   "cell_type": "code",
   "execution_count": 1,
   "metadata": {},
   "outputs": [
    {
     "name": "stdout",
     "output_type": "stream",
     "text": [
      "Requirement already satisfied: pytube in c:\\users\\user\\anaconda3\\lib\\site-packages (12.0.0)\n",
      "Collecting opencv-python\n",
      "  Using cached opencv_python-4.5.5.62-cp36-abi3-win_amd64.whl (35.4 MB)\n",
      "Requirement already satisfied: numpy>=1.17.3; python_version >= \"3.8\" in c:\\users\\user\\anaconda3\\lib\\site-packages (from opencv-python) (1.18.5)\n",
      "Installing collected packages: opencv-python\n",
      "Successfully installed opencv-python-4.5.5.62\n"
     ]
    }
   ],
   "source": [
    "!pip install pytube\n",
    "!pip install opencv-python"
   ]
  },
  {
   "cell_type": "code",
   "execution_count": 2,
   "metadata": {},
   "outputs": [
    {
     "data": {
      "text/plain": [
       "'4.5.5'"
      ]
     },
     "execution_count": 2,
     "metadata": {},
     "output_type": "execute_result"
    }
   ],
   "source": [
    "import cv2\n",
    "cv2.__version__"
   ]
  },
  {
   "cell_type": "code",
   "execution_count": 9,
   "metadata": {},
   "outputs": [
    {
     "name": "stdout",
     "output_type": "stream",
     "text": [
      "<Stream: itag=\"17\" mime_type=\"video/3gpp\" res=\"144p\" fps=\"12fps\" vcodec=\"mp4v.20.3\" acodec=\"mp4a.40.2\" progressive=\"True\" type=\"video\">\n",
      "<Stream: itag=\"18\" mime_type=\"video/mp4\" res=\"360p\" fps=\"24fps\" vcodec=\"avc1.42001E\" acodec=\"mp4a.40.2\" progressive=\"True\" type=\"video\">\n",
      "<Stream: itag=\"22\" mime_type=\"video/mp4\" res=\"720p\" fps=\"24fps\" vcodec=\"avc1.64001F\" acodec=\"mp4a.40.2\" progressive=\"True\" type=\"video\">\n",
      "<Stream: itag=\"137\" mime_type=\"video/mp4\" res=\"1080p\" fps=\"24fps\" vcodec=\"avc1.640028\" progressive=\"False\" type=\"video\">\n",
      "<Stream: itag=\"248\" mime_type=\"video/webm\" res=\"1080p\" fps=\"24fps\" vcodec=\"vp9\" progressive=\"False\" type=\"video\">\n",
      "<Stream: itag=\"399\" mime_type=\"video/mp4\" res=\"1080p\" fps=\"24fps\" vcodec=\"av01.0.08M.08\" progressive=\"False\" type=\"video\">\n",
      "<Stream: itag=\"136\" mime_type=\"video/mp4\" res=\"720p\" fps=\"24fps\" vcodec=\"avc1.4d401f\" progressive=\"False\" type=\"video\">\n",
      "<Stream: itag=\"247\" mime_type=\"video/webm\" res=\"720p\" fps=\"24fps\" vcodec=\"vp9\" progressive=\"False\" type=\"video\">\n",
      "<Stream: itag=\"398\" mime_type=\"video/mp4\" res=\"720p\" fps=\"24fps\" vcodec=\"av01.0.05M.08\" progressive=\"False\" type=\"video\">\n",
      "<Stream: itag=\"135\" mime_type=\"video/mp4\" res=\"480p\" fps=\"24fps\" vcodec=\"avc1.4d401e\" progressive=\"False\" type=\"video\">\n",
      "<Stream: itag=\"244\" mime_type=\"video/webm\" res=\"480p\" fps=\"24fps\" vcodec=\"vp9\" progressive=\"False\" type=\"video\">\n",
      "<Stream: itag=\"397\" mime_type=\"video/mp4\" res=\"480p\" fps=\"24fps\" vcodec=\"av01.0.04M.08\" progressive=\"False\" type=\"video\">\n",
      "<Stream: itag=\"134\" mime_type=\"video/mp4\" res=\"360p\" fps=\"24fps\" vcodec=\"avc1.4d401e\" progressive=\"False\" type=\"video\">\n",
      "<Stream: itag=\"243\" mime_type=\"video/webm\" res=\"360p\" fps=\"24fps\" vcodec=\"vp9\" progressive=\"False\" type=\"video\">\n",
      "<Stream: itag=\"396\" mime_type=\"video/mp4\" res=\"360p\" fps=\"24fps\" vcodec=\"av01.0.01M.08\" progressive=\"False\" type=\"video\">\n",
      "<Stream: itag=\"133\" mime_type=\"video/mp4\" res=\"240p\" fps=\"24fps\" vcodec=\"avc1.4d4015\" progressive=\"False\" type=\"video\">\n",
      "<Stream: itag=\"242\" mime_type=\"video/webm\" res=\"240p\" fps=\"24fps\" vcodec=\"vp9\" progressive=\"False\" type=\"video\">\n",
      "<Stream: itag=\"395\" mime_type=\"video/mp4\" res=\"240p\" fps=\"24fps\" vcodec=\"av01.0.00M.08\" progressive=\"False\" type=\"video\">\n",
      "<Stream: itag=\"160\" mime_type=\"video/mp4\" res=\"144p\" fps=\"24fps\" vcodec=\"avc1.4d400c\" progressive=\"False\" type=\"video\">\n",
      "<Stream: itag=\"278\" mime_type=\"video/webm\" res=\"144p\" fps=\"24fps\" vcodec=\"vp9\" progressive=\"False\" type=\"video\">\n",
      "<Stream: itag=\"394\" mime_type=\"video/mp4\" res=\"144p\" fps=\"24fps\" vcodec=\"av01.0.00M.08\" progressive=\"False\" type=\"video\">\n",
      "<Stream: itag=\"139\" mime_type=\"audio/mp4\" abr=\"48kbps\" acodec=\"mp4a.40.5\" progressive=\"False\" type=\"audio\">\n",
      "<Stream: itag=\"140\" mime_type=\"audio/mp4\" abr=\"128kbps\" acodec=\"mp4a.40.2\" progressive=\"False\" type=\"audio\">\n",
      "<Stream: itag=\"249\" mime_type=\"audio/webm\" abr=\"50kbps\" acodec=\"opus\" progressive=\"False\" type=\"audio\">\n",
      "<Stream: itag=\"250\" mime_type=\"audio/webm\" abr=\"70kbps\" acodec=\"opus\" progressive=\"False\" type=\"audio\">\n",
      "<Stream: itag=\"251\" mime_type=\"audio/webm\" abr=\"160kbps\" acodec=\"opus\" progressive=\"False\" type=\"audio\">\n"
     ]
    }
   ],
   "source": [
    "from pytube import YouTube\n",
    "yt = YouTube('https://www.youtube.com/watch?v=ApXoWvfEYVU')\n",
    "for item in yt.streams.filter():\n",
    "  print(item)"
   ]
  },
  {
   "cell_type": "code",
   "execution_count": 10,
   "metadata": {},
   "outputs": [
    {
     "name": "stdout",
     "output_type": "stream",
     "text": [
      "<pytube.__main__.YouTube object: videoId=ApXoWvfEYVU>\n",
      "Download video, please wait…\n",
      "Download completed\n"
     ]
    }
   ],
   "source": [
    "#getYouTubeVideo.py\n",
    "from pytube import YouTube\n",
    "yt = YouTube('https://www.youtube.com/watch?v=ApXoWvfEYVU')\n",
    "print(yt)\n",
    "try:\n",
    "  print('Download video, please wait…')\n",
    "  yt.streams.filter(file_extension='mp4', res='720p').first().download()\n",
    "except:\n",
    "  print('Error in download')\n",
    "print('Download completed')"
   ]
  },
  {
   "cell_type": "code",
   "execution_count": 14,
   "metadata": {},
   "outputs": [
    {
     "name": "stdout",
     "output_type": "stream",
     "text": [
      "Delete old result folder: ./outputB/\n",
      "create folder: ./outputB/\n",
      "3876\n",
      "process: 3801/3876"
     ]
    }
   ],
   "source": [
    "#從影片中截圖\n",
    "\n",
    "import os\n",
    "import cv2\n",
    "import glob\n",
    "\n",
    "video_path = 'sunflower.mp4'#下載的影片名稱\n",
    "output_folder = './outputB/'#建一個資料夾叫outputB\n",
    "\n",
    "if os.path.isdir(output_folder):\n",
    "    print(\"Delete old result folder: {}\".format(output_folder))\n",
    "    os.system(\"rm -rf {}\".format(output_folder))\n",
    "os.system(\"mkdir {}\".format(output_folder))\n",
    "print(\"create folder: {}\".format(output_folder))\n",
    "\n",
    "vc = cv2.VideoCapture(video_path)\n",
    "fps = vc.get(cv2.CAP_PROP_FPS)\n",
    "frame_count = int(vc.get(cv2.CAP_PROP_FRAME_COUNT))\n",
    "print(frame_count)\n",
    "video = []\n",
    "\n",
    "for idx in range(0,frame_count,100):\n",
    "    vc.set(1, idx)\n",
    "    ret, frame = vc.read()\n",
    "    height, width, layers = frame.shape\n",
    "    size = (width, height)\n",
    "\n",
    "    if frame is not None:\n",
    "        file_name = '{}{:08d}.jpg'.format(output_folder,idx)\n",
    "        cv2.imwrite(file_name, frame)\n",
    "\n",
    "    print(\"\\rprocess: {}/{}\".format(idx+1 , frame_count), end = '')\n",
    "vc.release()"
   ]
  },
  {
   "cell_type": "code",
   "execution_count": 15,
   "metadata": {},
   "outputs": [
    {
     "name": "stdout",
     "output_type": "stream",
     "text": [
      "Delete old result folder: ./outputB/\n",
      "create folder: ./outputB/\n",
      "3876\n",
      "process: 3801/3876"
     ]
    }
   ],
   "source": [
    "#更改影片截圖后的圖片名稱\n",
    "\n",
    "import os\n",
    "import cv2\n",
    "import glob\n",
    "\n",
    "video_path = 'sunflower.mp4'\n",
    "output_folder = './outputB/'\n",
    "\n",
    "if os.path.isdir(output_folder):\n",
    "    print(\"Delete old result folder: {}\".format(output_folder))\n",
    "    os.system(\"rm -rf {}\".format(output_folder))\n",
    "os.system(\"mkdir {}\".format(output_folder))\n",
    "print(\"create folder: {}\".format(output_folder))\n",
    "\n",
    "vc = cv2.VideoCapture(video_path)\n",
    "fps = vc.get(cv2.CAP_PROP_FPS)\n",
    "frame_count = int(vc.get(cv2.CAP_PROP_FRAME_COUNT))\n",
    "print(frame_count)\n",
    "video = []\n",
    "\n",
    "for idx in range(0,frame_count,100):\n",
    "    vc.set(1, idx)\n",
    "    ret, frame = vc.read()\n",
    "    height, width, layers = frame.shape\n",
    "    size = (width, height)\n",
    "    f=idx//100\n",
    "\n",
    "    if frame is not None:\n",
    "        file_name = '{}{}.jpg'.format(output_folder,f)\n",
    "        cv2.imwrite(file_name, frame)\n",
    "\n",
    "    print(\"\\rprocess: {}/{}\".format(idx+1 , frame_count), end = '')\n",
    "vc.release()"
   ]
  },
  {
   "cell_type": "code",
   "execution_count": 17,
   "metadata": {},
   "outputs": [
    {
     "name": "stdout",
     "output_type": "stream",
     "text": [
      "frame count:  77\n",
      "frame size:  (1280, 720)\n",
      "Process: [#############################] 000077 / 000077Finish making video !!!\n"
     ]
    }
   ],
   "source": [
    "#把影片截圖下來的圖片做成video\n",
    "\n",
    "import cv2\n",
    "import glob\n",
    "\n",
    "path = r\"./outputB/*.jpg\" \n",
    "result_name = 'outputB.mp4'\n",
    "\n",
    "frame_list = sorted(glob.glob(path))\n",
    "print(\"frame count: \",len(frame_list))\n",
    "\n",
    "fps = 5\n",
    "shape = cv2.imread(frame_list[0]).shape # delete dimension 3\n",
    "size = (shape[1], shape[0])\n",
    "print(\"frame size: \",size)\n",
    "fourcc = cv2.VideoWriter_fourcc(*'XVID')\n",
    "out = cv2.VideoWriter(result_name, fourcc, fps, size)\n",
    "\n",
    "for idx, path in enumerate(frame_list):\n",
    "    frame = cv2.imread(path)\n",
    "    # print(\"\\rMaking videos: {}/{}\".format(idx+1, len(frame_list)), end = \"\")\n",
    "    current_frame = idx+1\n",
    "    total_frame_count = len(frame_list)\n",
    "    percentage = int(current_frame*30 / (total_frame_count+1))\n",
    "    print(\"\\rProcess: [{}{}] {:06d} / {:06d}\".format(\"#\"*percentage, \".\"*(30-1-percentage), current_frame, total_frame_count), end ='')\n",
    "    out.write(frame)\n",
    "\n",
    "out.release()\n",
    "print(\"Finish making video !!!\")"
   ]
  },
  {
   "cell_type": "code",
   "execution_count": 21,
   "metadata": {},
   "outputs": [
    {
     "name": "stdout",
     "output_type": "stream",
     "text": [
      "frame count:  77\n"
     ]
    }
   ],
   "source": [
    "#photo filter更改截圖下來的圖片的濾鏡\n",
    "#https://www.wongwonggoods.com/python/python_opencv/opencv-applycolormap/\n",
    "\n",
    "import cv2\n",
    "import glob\n",
    "\n",
    "path = r\"./outputB/*.jpg\" \n",
    "path2 = r\"./o2/\"\n",
    "\n",
    "frame_list = sorted(glob.glob(path))\n",
    "print(\"frame count: \",len(frame_list))\n",
    "\n",
    "for idx, path in enumerate(frame_list):\n",
    "    file_name2 = '{}{}.jpg'.format(path2, idx)\n",
    "    a=cv2.applyColorMap(cv2.imread(path), cv2.COLORMAP_PINK)#filter choose PINK\n",
    "    cv2.imwrite(file_name2, a)\n",
    "#     print(path)"
   ]
  },
  {
   "cell_type": "code",
   "execution_count": 22,
   "metadata": {},
   "outputs": [
    {
     "name": "stdout",
     "output_type": "stream",
     "text": [
      "frame count:  77\n",
      "frame size:  (1280, 720)\n",
      "Process: [#############################] 000077 / 000077Finish making video !!!\n"
     ]
    }
   ],
   "source": [
    "import cv2\n",
    "import glob\n",
    "\n",
    "path = r\"./o2/*.jpg\" \n",
    "result_name = 'output1.mp4'\n",
    "\n",
    "frame_list = sorted(glob.glob(path))\n",
    "print(\"frame count: \",len(frame_list))\n",
    "\n",
    "fps = 5\n",
    "shape = cv2.imread(frame_list[0]).shape # delete dimension 3\n",
    "size = (shape[1], shape[0])\n",
    "print(\"frame size: \",size)\n",
    "fourcc = cv2.VideoWriter_fourcc(*'XVID')\n",
    "out = cv2.VideoWriter(result_name, fourcc, fps, size)\n",
    "\n",
    "for idx, path in enumerate(frame_list):\n",
    "    frame = cv2.imread(path)\n",
    "    # print(\"\\rMaking videos: {}/{}\".format(idx+1, len(frame_list)), end = \"\")\n",
    "    current_frame = idx+1\n",
    "    total_frame_count = len(frame_list)\n",
    "    percentage = int(current_frame*30 / (total_frame_count+1))\n",
    "    print(\"\\rProcess: [{}{}] {:06d} / {:06d}\".format(\"#\"*percentage, \".\"*(30-1-percentage), current_frame, total_frame_count), end ='')\n",
    "    out.write(frame)\n",
    "\n",
    "out.release()\n",
    "print(\"Finish making video !!!\")"
   ]
  },
  {
   "cell_type": "code",
   "execution_count": null,
   "metadata": {},
   "outputs": [],
   "source": []
  }
 ],
 "metadata": {
  "kernelspec": {
   "display_name": "Python 3",
   "language": "python",
   "name": "python3"
  },
  "language_info": {
   "codemirror_mode": {
    "name": "ipython",
    "version": 3
   },
   "file_extension": ".py",
   "mimetype": "text/x-python",
   "name": "python",
   "nbconvert_exporter": "python",
   "pygments_lexer": "ipython3",
   "version": "3.8.3"
  }
 },
 "nbformat": 4,
 "nbformat_minor": 4
}
